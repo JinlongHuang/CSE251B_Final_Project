{
 "cells": [
  {
   "cell_type": "code",
   "execution_count": 24,
   "metadata": {},
   "outputs": [],
   "source": [
    "import os\n",
    "import numpy as np\n",
    "import pandas as pd\n",
    "from tqdm import tqdm\n",
    "import sys\n",
    "\n",
    "from google_trans_new import google_translator "
   ]
  },
  {
   "cell_type": "code",
   "execution_count": 14,
   "metadata": {},
   "outputs": [],
   "source": [
    "# directory\n",
    "DATA_DIR = \"./data/\"\n",
    "\n",
    "# read train and test csv files\n",
    "train_df = pd.read_csv(os.path.join(DATA_DIR, \"train.csv\"))\n",
    "test_df = pd.read_csv(os.path.join(DATA_DIR, \"test.csv\"))"
   ]
  },
  {
   "cell_type": "code",
   "execution_count": 21,
   "metadata": {},
   "outputs": [],
   "source": [
    "# instantiate translator\n",
    "translator = google_translator() \n",
    "\n",
    "# function to translate sentence\n",
    "def translate_sentence(sentence, src_lang=None):\n",
    "    if \"en\" == src_lang:        \n",
    "        return sentence\n",
    "    \n",
    "    src_lang = \"zh-cn\" if \"zh\" in src_lang else src_lang\n",
    "    translated_sentence = translator.translate(sentence, lang_src=src_lang, lang_tgt='en')\n",
    "    \n",
    "    return translated_sentence"
   ]
  },
  {
   "cell_type": "code",
   "execution_count": 35,
   "metadata": {},
   "outputs": [],
   "source": [
    "def generate_translate_for_other_language(num = [0,500]):\n",
    "    print(\"Running: \", num)\n",
    "    ## translation for training data \n",
    "    for index, row in tqdm(train_df.iterrows()):\n",
    "        if index < num[0] or index > num[1]:\n",
    "            continue\n",
    "        else:        \n",
    "            # translate premise sentence train set\n",
    "            train_df.loc[index, \"premise_translated\"] = translate_sentence(row['premise'], row[\"lang_abv\"])\n",
    "            # translate hypothesis sentence train set\n",
    "            train_df.loc[index, \"hypothesis_translated\"] = translate_sentence(row['hypothesis'], row[\"lang_abv\"])\n",
    "\n",
    "\n",
    "    file_name = r'translated_train_text.csv'\n",
    "    ## save translated dataframe\n",
    "    train_df.to_csv(file_name, index=False)\n",
    "    print(f\"Translated train dataset saved in {file_name} csv file\")\n",
    "    ## translation for testing data \n",
    "    for index, row in tqdm(test_df.iterrows()):\n",
    "        if index < num[0] or index > num[1]:\n",
    "            continue\n",
    "        else:\n",
    "            # translate premise sentence train set\n",
    "            test_df.loc[index, \"premise_translated\"] = translate_sentence(row['premise'], row[\"lang_abv\"])\n",
    "            # translate hypothesis sentence train set\n",
    "            test_df.loc[index, \"hypothesis_translated\"] = translate_sentence(row['hypothesis'], row[\"lang_abv\"])\n",
    "\n",
    "\n",
    "    file_name = r'translated_test_dataset.csv'\n",
    "    ## save translated dataframe\n",
    "    train_df.to_csv(file_name, index=False)\n",
    "    print(f\"Translated train dataset saved in {file_name} csv file\")"
   ]
  },
  {
   "cell_type": "code",
   "execution_count": 59,
   "metadata": {},
   "outputs": [
    {
     "name": "stderr",
     "output_type": "stream",
     "text": [
      "785it [00:00, 7842.90it/s]"
     ]
    },
    {
     "name": "stdout",
     "output_type": "stream",
     "text": [
      "Running:  [12000, 13000]\n"
     ]
    },
    {
     "name": "stderr",
     "output_type": "stream",
     "text": [
      "12120it [00:42, 286.80it/s]  \n",
      "1031it [00:00, 10304.02it/s]"
     ]
    },
    {
     "name": "stdout",
     "output_type": "stream",
     "text": [
      "Translated train dataset saved in translated_train_text.csv csv file\n"
     ]
    },
    {
     "name": "stderr",
     "output_type": "stream",
     "text": [
      "5195it [00:00, 10487.41it/s]\n"
     ]
    },
    {
     "name": "stdout",
     "output_type": "stream",
     "text": [
      "Translated train dataset saved in translated_test_dataset.csv csv file\n"
     ]
    }
   ],
   "source": [
    "generate_translate_for_other_language(num = [12000,13000])"
   ]
  },
  {
   "cell_type": "code",
   "execution_count": 12,
   "metadata": {},
   "outputs": [
    {
     "data": {
      "text/plain": [
       "'I am good. '"
      ]
     },
     "execution_count": 12,
     "metadata": {},
     "output_type": "execute_result"
    }
   ],
   "source": [
    "translator.translate('Ich bin gut.', lang_tgt='en')"
   ]
  },
  {
   "cell_type": "code",
   "execution_count": null,
   "metadata": {},
   "outputs": [],
   "source": []
  }
 ],
 "metadata": {
  "kernelspec": {
   "display_name": "Python 3",
   "language": "python",
   "name": "python3"
  },
  "language_info": {
   "codemirror_mode": {
    "name": "ipython",
    "version": 3
   },
   "file_extension": ".py",
   "mimetype": "text/x-python",
   "name": "python",
   "nbconvert_exporter": "python",
   "pygments_lexer": "ipython3",
   "version": "3.7.6"
  }
 },
 "nbformat": 4,
 "nbformat_minor": 4
}
